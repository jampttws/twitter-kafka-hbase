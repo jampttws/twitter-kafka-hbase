{
 "cells": [
  {
   "cell_type": "code",
   "execution_count": 1,
   "metadata": {},
   "outputs": [],
   "source": [
    "import happybase as hb\n",
    "import json\n",
    "from kafka import KafkaConsumer\n",
    "from time import sleep\n"
   ]
  },
  {
   "cell_type": "code",
   "execution_count": 2,
   "metadata": {},
   "outputs": [
    {
     "name": "stdout",
     "output_type": "stream",
     "text": [
      "<happybase.table.Table name=b'covid_table'>\n",
      "Connect to HBase. table name: covid_table\n"
     ]
    }
   ],
   "source": [
    "\n",
    "table_name = \"covid_table\"\n",
    "\n",
    "def connect_to_hbase():\n",
    "    \"\"\" Connect to HBase server with localhost port 9090 which is Thrift is running.\"\"\"\n",
    "    \n",
    "    conn = hb.Connection('localhost', 9090, autoconnect=False) \n",
    "    conn.open()\n",
    "    \n",
    "    table = conn.table(table_name)\n",
    "    \n",
    "    print(table)\n",
    "    \n",
    "    return conn, table\n",
    "\n",
    "def insert_row(table, row):\n",
    "    \"\"\" Insert a row into HBase. Rows have the following schema: [ id, created_by, text, date ]\"\"\"\n",
    "\n",
    "    try:\n",
    "        row_id = '{}'.format(row['id'])\n",
    "        cb = '{}'.format(row['created_by'])\n",
    "        txt = '{}'.format(row['text'])\n",
    "        date = '{}'.format(row['date'])\n",
    "\n",
    "        table.put(row_id, {'created_by:': cb, 'text:': txt, 'date:': date })\n",
    "        print('Insert data: {},[{}, {}, {}]'.format(row_id, cb, txt, date))\n",
    "        raise ValueError(\"Something went wrong!\")\n",
    "    \n",
    "    except ValueError as e:\n",
    "        # error handling goes here; nothing is sent to HBase\n",
    "        pass\n",
    "    \n",
    "    else:\n",
    "        # no exceptions; send data\n",
    "        b.send()\n",
    "    \n",
    "# After everything has been defined, run the script.\n",
    "conn, table = connect_to_hbase()\n",
    "print('Connect to HBase. table name: {}'.format(table_name))\n"
   ]
  },
  {
   "cell_type": "code",
   "execution_count": 3,
   "metadata": {
    "scrolled": false
   },
   "outputs": [
    {
     "name": "stdout",
     "output_type": "stream",
     "text": [
      "Insert data: row1,[Marian, RT @chuckwoolery: Pamela Geller Sues Bill de Blasio for Forbidding New Yorkers to Protest during COVID-19 https://t.co/otatGhd0WH, Sat May 09 05:40:00 +0000 2020]\n",
      "Insert data: row2,[Steve Van Camp, RT @maggieNYT: Many news outlets the president calls fake had held off on reporting who the staffer was who got COVID, out of respect for c…, Sat May 09 05:40:00 +0000 2020]\n",
      "Insert data: row3,[babulal jakhar, RT @Rajniin48551148: #TrueBloodPump\n",
      "\n",
      "Covid-19\n",
      "This blood donation was done in many cities &amp; states to mark the occasion of World Thalassemi…, Sat May 09 05:40:00 +0000 2020]\n",
      "Insert data: row4,[Charlotte Murder Hornets, RT @TraderJoesUnion: Please don’t complain to us that a store you went to asked you to wear a mask.\n",
      "\n",
      "Our coworkers have died from COVID-19.…, Sat May 09 05:40:00 +0000 2020]\n",
      "Insert data: row5,[Kristi, RT @mmpadellan: Katie Miller, wife of Stephen Miller, has been exposed to a disgusting, insidious virus that nobody in America wants to be…, Sat May 09 05:39:57 +0000 2020]\n",
      "Insert data: row6,[S S Mohd Dabai, You let Them see u in camera me i go this way🏃‍♀️🏃‍♀️🏃‍♀️🏃‍♀️, Sat May 09 05:39:59 +0000 2020]\n",
      "Insert data: row7,[The News, #Pakistanis, other ethnics more at risk from COVID-19 in #UK\n",
      "\n",
      "#TheNews, Sat May 09 05:40:00 +0000 2020]\n",
      "Insert data: row8,[10TV, South Carolina man beats COVID-19, goes home after 8 weeks in hospital https://t.co/tUhe8vAqdw #10TV https://t.co/5pwVo0XUdW, Sat May 09 05:40:00 +0000 2020]\n"
     ]
    },
    {
     "ename": "KeyboardInterrupt",
     "evalue": "",
     "output_type": "error",
     "traceback": [
      "\u001b[0;31m---------------------------------------------------------------------------\u001b[0m",
      "\u001b[0;31mKeyboardInterrupt\u001b[0m                         Traceback (most recent call last)",
      "\u001b[0;32m<ipython-input-3-1dae0f7e664a>\u001b[0m in \u001b[0;36m<module>\u001b[0;34m\u001b[0m\n\u001b[1;32m     24\u001b[0m         \u001b[0minsert_row\u001b[0m\u001b[0;34m(\u001b[0m\u001b[0mtable\u001b[0m\u001b[0;34m,\u001b[0m \u001b[0mdata\u001b[0m\u001b[0;34m)\u001b[0m\u001b[0;34m\u001b[0m\u001b[0;34m\u001b[0m\u001b[0m\n\u001b[1;32m     25\u001b[0m \u001b[0;34m\u001b[0m\u001b[0m\n\u001b[0;32m---> 26\u001b[0;31m         \u001b[0msleep\u001b[0m\u001b[0;34m(\u001b[0m\u001b[0;36m3\u001b[0m\u001b[0;34m)\u001b[0m\u001b[0;34m\u001b[0m\u001b[0;34m\u001b[0m\u001b[0m\n\u001b[0m\u001b[1;32m     27\u001b[0m \u001b[0;34m\u001b[0m\u001b[0m\n\u001b[1;32m     28\u001b[0m     \u001b[0;32mif\u001b[0m \u001b[0mconsumer\u001b[0m \u001b[0;32mis\u001b[0m \u001b[0;32mnot\u001b[0m \u001b[0;32mNone\u001b[0m\u001b[0;34m:\u001b[0m\u001b[0;34m\u001b[0m\u001b[0;34m\u001b[0m\u001b[0m\n",
      "\u001b[0;31mKeyboardInterrupt\u001b[0m: "
     ]
    }
   ],
   "source": [
    "if __name__ == '__main__':\n",
    "    \n",
    "    topic_name = 'covid'\n",
    "\n",
    "    consumer = KafkaConsumer(topic_name, auto_offset_reset='earliest',\n",
    "                             bootstrap_servers=['localhost:9092'], api_version=(0, 10), consumer_timeout_ms=1000)\n",
    "    \n",
    "    id = 0\n",
    "    \n",
    "    for msg in consumer:\n",
    "        record = json.loads(msg.value)\n",
    "\n",
    "        author = record['user']['name']\n",
    "        text = record['text']\n",
    "        date = record['created_at']\n",
    "        \n",
    "        id += 1 \n",
    "        row = 'row{}'.format(id) \n",
    "        \n",
    "        data = {'id': row, 'created_by': author, 'text': text, 'date': date}\n",
    "        \n",
    "#         print(data)\n",
    "\n",
    "        insert_row(table, data)\n",
    "\n",
    "        sleep(3)\n",
    "\n",
    "    if consumer is not None:\n",
    "        consumer.close()\n",
    "        conn.close()"
   ]
  },
  {
   "cell_type": "code",
   "execution_count": 4,
   "metadata": {
    "scrolled": false
   },
   "outputs": [
    {
     "name": "stdout",
     "output_type": "stream",
     "text": [
      "b'row1' {b'created_by:': b'Marian', b'date:': b'Sat May 09 05:40:00 +0000 2020', b'text:': b'RT @chuckwoolery: Pamela Geller Sues Bill de Blasio for Forbidding New Yorkers to Protest during\\xc2\\xa0COVID-19 https://t.co/otatGhd0WH'}\n",
      "b'row10' {b'created_by:': b'Bhavya\\xf0\\x9f\\x87\\xae\\xf0\\x9f\\x87\\xb3', b'date:': b'Sat May 09 05:40:00 +0000 2020', b'text:': b'RT @AmitShah: Had a meeting with DGs of all Central Armed Police Force.\\n\\nEntire nation is proud of our CAPF personnel for their contributio\\xe2\\x80\\xa6'}\n",
      "b'row11' {b'created_by:': b'WION', b'date:': b'Sat May 09 05:40:00 +0000 2020', b'text:': b'The total number of cases in #India has risen to 59,662, including 39,834 active cases\\n\\n#Coronavirus\\xe2\\x80\\xa6 https://t.co/gpKSgSR2Y1'}\n",
      "b'row12' {b'created_by:': b'Tony News Network', b'date:': b'Sat May 09 05:40:00 +0000 2020', b'text:': b'Saudi Arabia recorded its first COVID-19 infection on March 2, several weeks after the initial outbreak in Asia. https://t.co/f3y6zuDhjc'}\n",
      "b'row13' {b'created_by:': b'Channel24', b'date:': b'Sat May 09 05:40:00 +0000 2020', b'text:': b'SATURDAY EDITION | Covid-19 closes the curtain on some of SA\\xe2\\x80\\x99s magazine titans\\nhttps://t.co/8n0r8BGoed https://t.co/xc8TUu3grV'}\n",
      "b'row14' {b'created_by:': b'Michael Mobbs', b'date:': b'Sat May 09 05:40:00 +0000 2020', b'text:': b\"RT @matilda_marie: How eerily appropriate that the lineage of the term social distance traces back to 1824, meaning people's willingness to\\xe2\\x80\\xa6\"}\n",
      "b'row15' {b'created_by:': b'ash kardash', b'date:': b'Sat May 09 05:40:00 +0000 2020', b'text:': b'just curious... bc of COVID-19.... you\\xe2\\x80\\x99re...'}\n",
      "b'row16' {b'created_by:': b'Handakajal', b'date:': b'Sat May 09 05:40:00 +0000 2020', b'text:': b'RT @babita260465: #TrueBloodPump\\nCovid-19\\nGrand Salute to the warriors who help the Punjab Government by providing the blood during lock do\\xe2\\x80\\xa6'}\n",
      "b'row17' {b'created_by:': b'Martin Brown', b'date:': b'Sat May 09 05:40:00 +0000 2020', b'text:': b'Government to urge us all to walk &amp; cycle more \"It would be completely absurd if, after unprecedented efforts &amp; sac\\xe2\\x80\\xa6 https://t.co/GGmm5GIWZZ'}\n",
      "b'row18' {b'created_by:': b'semi-Yoda', b'date:': b'Sat May 09 05:40:00 +0000 2020', b'text:': b'RT @JustinWolfers: Notice that companies that care about their reputations aren\\xe2\\x80\\x99t rushing to resume pre-covid operations. It\\xe2\\x80\\x99s vital for th\\xe2\\x80\\xa6'}\n",
      "b'row2' {b'created_by:': b'Steve Van Camp', b'date:': b'Sat May 09 05:40:00 +0000 2020', b'text:': b'RT @maggieNYT: Many news outlets the president calls fake had held off on reporting who the staffer was who got COVID, out of respect for c\\xe2\\x80\\xa6'}\n",
      "b'row3' {b'created_by:': b'babulal jakhar', b'date:': b'Sat May 09 05:40:00 +0000 2020', b'text:': b'RT @Rajniin48551148: #TrueBloodPump\\n\\nCovid-19\\nThis blood donation was done in many cities &amp; states to mark the occasion of World Thalassemi\\xe2\\x80\\xa6'}\n",
      "b'row4' {b'created_by:': b'Charlotte Murder Hornets', b'date:': b'Sat May 09 05:40:00 +0000 2020', b'text:': b'RT @TraderJoesUnion: Please don\\xe2\\x80\\x99t complain to us that a store you went to asked you to wear a mask.\\n\\nOur coworkers have died from COVID-19.\\xe2\\x80\\xa6'}\n",
      "b'row5' {b'created_by:': b'Kristi', b'date:': b'Sat May 09 05:39:57 +0000 2020', b'text:': b'RT @mmpadellan: Katie Miller, wife of Stephen Miller, has been exposed to a disgusting, insidious virus that nobody in America wants to be\\xe2\\x80\\xa6'}\n",
      "b'row6' {b'created_by:': b'S S Mohd Dabai', b'date:': b'Sat May 09 05:39:59 +0000 2020', b'text:': b'You let Them see u in camera me i go this way\\xf0\\x9f\\x8f\\x83\\xe2\\x80\\x8d\\xe2\\x99\\x80\\xef\\xb8\\x8f\\xf0\\x9f\\x8f\\x83\\xe2\\x80\\x8d\\xe2\\x99\\x80\\xef\\xb8\\x8f\\xf0\\x9f\\x8f\\x83\\xe2\\x80\\x8d\\xe2\\x99\\x80\\xef\\xb8\\x8f\\xf0\\x9f\\x8f\\x83\\xe2\\x80\\x8d\\xe2\\x99\\x80\\xef\\xb8\\x8f'}\n",
      "b'row7' {b'created_by:': b'The News', b'date:': b'Sat May 09 05:40:00 +0000 2020', b'text:': b'#Pakistanis, other ethnics more at risk from COVID-19 in #UK\\n\\n#TheNews'}\n",
      "b'row8' {b'created_by:': b'10TV', b'date:': b'Sat May 09 05:40:00 +0000 2020', b'text:': b'South Carolina man beats COVID-19, goes home after 8 weeks in hospital https://t.co/tUhe8vAqdw #10TV https://t.co/5pwVo0XUdW'}\n",
      "b'row9' {b'created_by:': b'Rick Cooley', b'date:': b'Sat May 09 05:40:00 +0000 2020', b'text:': b'The Labor Department Is Sacrificing Workers on the Altar of \\xe2\\x80\\x98Reopening \\n- https://t.co/59tr7xJEEE'}\n"
     ]
    }
   ],
   "source": [
    "connect = hb.Connection('localhost', 9090, autoconnect=False) \n",
    "connect.open()\n",
    "    \n",
    "\n",
    "tables = connect.table('covid_table')\n",
    "\n",
    "# use to check data in hbase table\n",
    "\n",
    "for key, data in tables.scan(row_start='row'):\n",
    "    print(key, data)\n",
    "\n"
   ]
  },
  {
   "cell_type": "code",
   "execution_count": null,
   "metadata": {},
   "outputs": [],
   "source": []
  },
  {
   "cell_type": "code",
   "execution_count": null,
   "metadata": {},
   "outputs": [],
   "source": []
  }
 ],
 "metadata": {
  "kernelspec": {
   "display_name": "Python 3",
   "language": "python",
   "name": "python3"
  },
  "language_info": {
   "codemirror_mode": {
    "name": "ipython",
    "version": 3
   },
   "file_extension": ".py",
   "mimetype": "text/x-python",
   "name": "python",
   "nbconvert_exporter": "python",
   "pygments_lexer": "ipython3",
   "version": "3.6.10"
  }
 },
 "nbformat": 4,
 "nbformat_minor": 4
}
